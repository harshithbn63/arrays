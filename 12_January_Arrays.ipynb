{
 "cells": [
  {
   "cell_type": "code",
   "execution_count": 4,
   "id": "b2fafc69-e85b-491f-9cf8-efb62c02fcb4",
   "metadata": {},
   "outputs": [
    {
     "name": "stdout",
     "output_type": "stream",
     "text": [
      "True\n"
     ]
    }
   ],
   "source": [
    "# 1. Given an array, check if it contains any duplicates or not.\n",
    "def check_duplicate(arr):\n",
    "    a=set(arr)\n",
    "    for i in a:\n",
    "        b=arr.count(i)\n",
    "        if(b>1):\n",
    "            return True\n",
    "    return False\n",
    "print(check_duplicate([1,2,4,2,5,9]))"
   ]
  },
  {
   "cell_type": "code",
   "execution_count": 22,
   "id": "d983a319-81f0-4179-bf0f-f6445c9d6ca0",
   "metadata": {},
   "outputs": [
    {
     "name": "stdout",
     "output_type": "stream",
     "text": [
      "[5, 6, 7, 1, 2, 3, 4]\n"
     ]
    }
   ],
   "source": [
    "# 2. Given an array and an integer k, rotate the array to the right by k steps.\n",
    "def rotate(arr,k):\n",
    "    k=k%len(arr)\n",
    "    for i in range(k):\n",
    "        a=arr[0]\n",
    "        arr[0]=arr[len(arr)-1]\n",
    "        j=1\n",
    "        while(j<=len(arr)-1):\n",
    "            b=arr[j]\n",
    "            arr[j]=a\n",
    "            a=b\n",
    "            j+=1\n",
    "    return arr\n",
    "print(rotate([1,2,3,4,5,6,7],3))\n",
    "            \n",
    "    "
   ]
  },
  {
   "cell_type": "code",
   "execution_count": 8,
   "id": "840a0d15-303d-4ece-8c89-061581afd776",
   "metadata": {},
   "outputs": [
    {
     "name": "stdout",
     "output_type": "stream",
     "text": [
      "[12, 9, 7, 5, 4, 2]\n"
     ]
    }
   ],
   "source": [
    "# 3. Reverse the given array in-place, means without using any extra data structure.\n",
    "def reverse(arr,si,ei):\n",
    "    if si>=ei:\n",
    "        return arr\n",
    "    arr[si],arr[ei]=arr[ei],arr[si]\n",
    "    return reverse(arr,si+1,ei-1)\n",
    "arr=[2,4,5,7,9,12]\n",
    "print(reverse(arr,0,len(arr)-1))"
   ]
  },
  {
   "cell_type": "code",
   "execution_count": 17,
   "id": "6876d4bc-8385-490a-b33e-da80e3a369ef",
   "metadata": {},
   "outputs": [
    {
     "name": "stdout",
     "output_type": "stream",
     "text": [
      "20\n"
     ]
    }
   ],
   "source": [
    "def maximum(arr):\n",
    "    h=0\n",
    "    for i in arr:\n",
    "        if i>h:\n",
    "            h=i\n",
    "    return(h)\n",
    "print(maximum([10,5,20,8,15]))\n",
    "   "
   ]
  },
  {
   "cell_type": "code",
   "execution_count": 20,
   "id": "5c1daaae-9246-4522-a205-7b1902405e20",
   "metadata": {},
   "outputs": [
    {
     "name": "stdout",
     "output_type": "stream",
     "text": [
      "[1, 2, 3, 4, 5]\n"
     ]
    }
   ],
   "source": [
    "def remove_duplicate(arr):\n",
    "    a=arr[0]\n",
    "    for i in arr[1:len(arr)]:\n",
    "        if i==a:\n",
    "            arr.pop(arr.index(i))\n",
    "        else:\n",
    "            a=i\n",
    "       \n",
    "    return arr\n",
    "print(remove_duplicate([1,1,2,2,2,3,3,4,4,4,5,5]))\n",
    "    "
   ]
  },
  {
   "cell_type": "code",
   "execution_count": null,
   "id": "7a366880-d8ba-480c-af36-1384fcc4a504",
   "metadata": {},
   "outputs": [],
   "source": []
  }
 ],
 "metadata": {
  "kernelspec": {
   "display_name": "Python 3 (ipykernel)",
   "language": "python",
   "name": "python3"
  },
  "language_info": {
   "codemirror_mode": {
    "name": "ipython",
    "version": 3
   },
   "file_extension": ".py",
   "mimetype": "text/x-python",
   "name": "python",
   "nbconvert_exporter": "python",
   "pygments_lexer": "ipython3",
   "version": "3.10.8"
  }
 },
 "nbformat": 4,
 "nbformat_minor": 5
}
